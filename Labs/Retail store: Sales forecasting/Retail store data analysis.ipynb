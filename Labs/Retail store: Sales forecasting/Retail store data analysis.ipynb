{
 "nbformat": 4,
 "nbformat_minor": 2,
 "metadata": {
  "language_info": {
   "name": "python",
   "codemirror_mode": {
    "name": "ipython",
    "version": 3
   },
   "version": "3.8.2-final"
  },
  "orig_nbformat": 2,
  "file_extension": ".py",
  "mimetype": "text/x-python",
  "name": "python",
  "npconvert_exporter": "python",
  "pygments_lexer": "ipython3",
  "version": 3,
  "kernelspec": {
   "name": "python38232bit202004salespredictionvenvvenv4cab222feb1243cbaf794862cc2a2344",
   "display_name": "Python 3.8.2 32-bit ('202004SalesPrediction.venv': venv)"
  }
 },
 "cells": [
  {
   "cell_type": "markdown",
   "metadata": {},
   "source": [
    "# Use case: Sales time series descriptive analytics\n",
    "\n",
    "*Date: 20/04/2020*  \n",
    "*Place: Antwerp, Belgium*  \n",
    "*Data scientist: Anna Sukhareva*  \n",
    "*Contact: anna@linefeed.be*  \n",
    "\n",
    "## Table of Contents\n",
    "1 : Business Understanding  \n",
    "2 : Data Requirements  \n",
    "3 : Data Collection  \n",
    "4 : Data Understanding  \n",
    "\n",
    "## 1. Business Understanding  \n",
    "**Problem:**  There is a network comprising 60 retail shops, selling about 20 K unique items.\n",
    "**Question:** What can we tell about sales?  \n",
    "\n",
    "## 2. Data reguirements:\n",
    "Source: Internal data  \n",
    "Format: csv  \n",
    "Content:  \n",
    "- items,   \n",
    "- items categories,  \n",
    "- shops,  \n",
    "- sales.  \n",
    "\n",
    "## 3. Data collecion"
   ],
   "execution_count": null,
   "outputs": []
  },
  {
   "cell_type": "code",
   "execution_count": null,
   "metadata": {},
   "outputs": [],
   "source": [
    "#libraries\n",
    "\n",
    "# computation\n",
    "import numpy as np\n",
    "import pandas as pd\n",
    "import itertools\n",
    "\n",
    "# visualization\n",
    "import matplotlib.pyplot as plt\n",
    "%matplotlib inline\n",
    "\n",
    "# statistic\n",
    "from pylab import rcParams\n",
    "import statsmodels.api as sm\n",
    "\n",
    "pd.set_option('display.float_format', lambda x: '%.2f' % x)\n",
    "import warnings\n",
    "warnings.filterwarnings(\"ignore\")\n",
    "\n",
    "print('Imported')"
   ]
  },
  {
   "cell_type": "code",
   "execution_count": null,
   "metadata": {},
   "outputs": [],
   "source": [
    "# loading data\n",
    "\n",
    "items = pd.read_csv(r'.\\202004SalesPrediction.data\\items.csv',  dtype={\n",
    "    'item_name': 'str', \n",
    "    'item_id': 'int32', \n",
    "    'item_category_id': 'int32'\n",
    "    }\n",
    "    )\n",
    "item_categories = pd.read_csv(r'.\\202004SalesPrediction.data\\item_categories.csv', dtype={\n",
    "    'item_category_name': 'str', \n",
    "    'item_category_id': 'int32'\n",
    "    }\n",
    "    )\n",
    "shops = pd.read_csv(r'.\\202004SalesPrediction.data\\shops.csv', dtype={\n",
    "    'shop_name': 'str', \n",
    "    'shop_id': 'int32'\n",
    "    }\n",
    "    )\n",
    "test = pd.read_csv(r'.\\202004SalesPrediction.data\\test.csv', dtype={\n",
    "    'ID': 'int32', \n",
    "    'shop_id': 'int32', \n",
    "    'item_id': 'int32'\n",
    "    }\n",
    "    )\n",
    "print('Loaded')"
   ]
  },
  {
   "cell_type": "code",
   "execution_count": null,
   "metadata": {},
   "outputs": [],
   "source": [
    "sales = pd.read_csv(r'.\\202004SalesPrediction.data\\sales_train.csv', parse_dates=['date'], dtype={\n",
    "    'date': 'str', \n",
    "    'date_block_num': 'int32', \n",
    "    'shop_id': 'int32', \n",
    "    'item_id': 'int32', \n",
    "    'item_price': 'float32', \n",
    "    'item_cnt_day': 'int32'\n",
    "    }\n",
    "    )\n",
    "print('Loaded')"
   ]
  },
  {
   "cell_type": "code",
   "execution_count": null,
   "metadata": {},
   "outputs": [],
   "source": [
    "# join datasets\n",
    "\n",
    "train = sales.join(items, on='item_id', rsuffix='_').join(shops, on='shop_id', rsuffix='_').join(item_categories, on='item_category_id', rsuffix='_').drop(['item_id_', 'shop_id_', 'item_category_id_'], axis=1)\n",
    "train.head()"
   ]
  },
  {
   "cell_type": "markdown",
   "metadata": {},
   "source": [
    "## 4. Data understanding"
   ],
   "execution_count": null,
   "outputs": []
  },
  {
   "cell_type": "code",
   "execution_count": null,
   "metadata": {},
   "outputs": [],
   "source": [
    "print(train.shape)"
   ]
  },
  {
   "cell_type": "code",
   "execution_count": null,
   "metadata": {},
   "outputs": [],
   "source": [
    "train.head()"
   ]
  },
  {
   "cell_type": "code",
   "execution_count": null,
   "metadata": {},
   "outputs": [],
   "source": [
    "train.describe()"
   ]
  },
  {
   "cell_type": "markdown",
   "metadata": {},
   "source": [
    "### How different is assortiment in shops?"
   ],
   "execution_count": null,
   "outputs": []
  },
  {
   "cell_type": "code",
   "execution_count": null,
   "metadata": {},
   "outputs": [],
   "source": [
    "assortment = sales[['shop_id', 'item_id']]\n",
    "a = assortment.groupby('shop_id')['item_id'].nunique().reset_index(name='uniqueCounts')\n",
    "a.head()"
   ]
  },
  {
   "cell_type": "code",
   "execution_count": null,
   "metadata": {},
   "outputs": [],
   "source": [
    "a.uniqueCounts.hist()\n",
    "plt.xlabel('Unique item_id, counts')\n",
    "plt.ylabel('Number of shops, counts')\n",
    "plt.title('How much unique items shops had over time period?')\n",
    "plt.show()"
   ]
  },
  {
   "cell_type": "markdown",
   "metadata": {},
   "source": [
    "###  Which items are not sold in no one shop?"
   ],
   "execution_count": null,
   "outputs": []
  },
  {
   "cell_type": "code",
   "execution_count": null,
   "metadata": {},
   "outputs": [],
   "source": [
    "# Which items are not sold in no one shop?\n",
    "\n",
    "itemsAll = set(items.item_id.tolist())\n",
    "itemsSold = set(sales.item_id.unique().tolist())\n",
    "itemsNonSold = list(itemsAll - itemsSold)\n",
    "itemsNonSold.sort()\n",
    "\n",
    "print(len(itemsNonSold), 'items_id were never sold in no one shoip, namely items_id: ', itemsNonSold[:11], ' and others')"
   ]
  },
  {
   "cell_type": "code",
   "execution_count": null,
   "metadata": {},
   "outputs": [],
   "source": [
    "pivoted = sales.pivot_table(index='shop_id', columns='item_id', values='item_cnt_day', aggfunc=np.sum)\n",
    "\n",
    "itemsIdNumberOFShopsSoldIt = pivoted.count().rename_axis('item_id').reset_index(name='TotalShopsThatSoldIt')\n",
    "itemsIdNumberOFShopsSoldIt = itemsIdNumberOFShopsSoldIt.sort_values(by='TotalShopsThatSoldIt', ascending=False)\n",
    "itemsIdNumberOFShopsSoldIt"
   ]
  },
  {
   "cell_type": "code",
   "execution_count": null,
   "metadata": {},
   "outputs": [],
   "source": [
    "itemsIdNumberOFShopsSoldIt.TotalShopsThatSoldIt.plot.box(grid='True')\n",
    "plt.ylabel('Number shops that sold the item')\n",
    "plt.title('Overview: In how many shops are items sold?')\n",
    "plt.show()\n",
    "\n",
    "# Mediana - items are sold in ~15 shops\n",
    "# 25% items are sold ~ in 4 shops\n",
    "# 75% of items are sold in ~ 34 shops"
   ]
  },
  {
   "cell_type": "code",
   "execution_count": null,
   "metadata": {},
   "outputs": [],
   "source": [
    "itemsIdNumberOFShopsSoldIt.TotalShopsThatSoldIt.hist()\n",
    "plt.xlabel('Number shops that sold the item')\n",
    "plt.ylabel('items_id, count')\n",
    "plt.title('Overview: In how many shops are items sold?')\n",
    "plt.show()"
   ]
  },
  {
   "cell_type": "code",
   "execution_count": null,
   "metadata": {},
   "outputs": [],
   "source": [
    "pivoted['UniqueItemIdSold'] = pivoted.count(axis=1)\n",
    "\n",
    "pivoted.UniqueItemIdSold.hist()\n",
    "plt.xlabel('Unique Items_id, count')\n",
    "plt.ylabel('Shops, count')\n",
    "plt.title('Overview: How many unique items_id are sold in shops?')\n",
    "plt.show()"
   ]
  },
  {
   "cell_type": "code",
   "execution_count": null,
   "metadata": {},
   "outputs": [],
   "source": [
    "pivoted.UniqueItemIdSold.plot.box(grid='True')\n",
    "#plt.ylabel('Number shops that sold the item')\n",
    "plt.title('Overview: How many unique items_id are sold in shops?')\n",
    "plt.show()"
   ]
  },
  {
   "cell_type": "markdown",
   "metadata": {},
   "source": [
    "25% shops (~15) have under ~4000 unique items_id  \n",
    "75% shops (~45) have under ~9000 unique items_id  \n",
    "\n",
    "About 26 shops sold 3.1-9K unique item_id.  \n",
    "Mediana: 7K unique items_id"
   ],
   "execution_count": null,
   "outputs": []
  },
  {
   "cell_type": "markdown",
   "metadata": {},
   "source": [
    "### Do all shops have same prices for same items_id?"
   ],
   "execution_count": null,
   "outputs": []
  },
  {
   "cell_type": "code",
   "execution_count": null,
   "metadata": {},
   "outputs": [],
   "source": [
    "prices = sales.pivot_table(index='shop_id', columns='item_id', values='item_price')\n",
    "\n",
    "# picking min & max prices for each item\n",
    "def minMax(x):\n",
    "    return pd.Series(index=['min','max'],data=[x.min(),x.max()])\n",
    "prices = prices.apply(minMax)\n",
    "prices = prices.T\n",
    "\n",
    "# creating a column with difference in min & max prices:\n",
    "prices['differentProcent'] = round(abs(prices['min']*100/prices['max'] - 100))\n",
    "prices['differentProcent'] = prices['differentProcent'].astype(int)\n",
    "\n",
    "prices.head()"
   ]
  },
  {
   "cell_type": "code",
   "execution_count": null,
   "metadata": {},
   "outputs": [],
   "source": [
    "print(\n",
    "prices.loc[prices.differentProcent != 0].shape[0], ' items_id have different prices, ´that is equal to ', round(prices.loc[prices.differentProcent != 0].shape[0] * 100 / prices.shape[0]), ' %'\n",
    ")"
   ]
  },
  {
   "cell_type": "markdown",
   "metadata": {},
   "source": [
    "### Sample of pricing policy: item_id = 11865"
   ],
   "execution_count": null,
   "outputs": []
  },
  {
   "cell_type": "code",
   "execution_count": null,
   "metadata": {},
   "outputs": [],
   "source": [
    "item11865 = sales.loc[sales.item_id == 11865]\n",
    "print(\n",
    "'Total sales:' , item11865.item_cnt_day.sum(),\n",
    "', in total shops:' , item11865.loc[item11865.item_price == 0.1].shop_id.nunique()\n",
    ")"
   ]
  },
  {
   "cell_type": "code",
   "execution_count": null,
   "metadata": {},
   "outputs": [],
   "source": [
    "item11865.item_price.hist()\n",
    "plt.title('How differ price for item_id = 11865?')\n",
    "plt.show()"
   ]
  },
  {
   "cell_type": "code",
   "execution_count": null,
   "metadata": {},
   "outputs": [],
   "source": [
    "item11865.item_price.value_counts().head()"
   ]
  },
  {
   "cell_type": "markdown",
   "metadata": {},
   "source": [
    "Sample, result:  \n",
    "- 233 times sold,  \n",
    "- price: from 0.1 to 729,  \n",
    "- 140 sales with price 0.1, over 34 different shops.    \n",
    "Conclusion: discount policy."
   ],
   "execution_count": null,
   "outputs": []
  },
  {
   "cell_type": "markdown",
   "metadata": {},
   "source": [
    "### How can we describe a discount policy?"
   ],
   "execution_count": null,
   "outputs": []
  },
  {
   "cell_type": "code",
   "execution_count": null,
   "metadata": {},
   "outputs": [],
   "source": [
    "print(\n",
    "prices.loc[prices.differentProcent != 0].shape[0], 'unique items_id were sold with discount:',  '\\n',\n",
    "prices.loc[prices.differentProcent == 100].shape[0], ' item_id were sold with max discount =', prices.loc[prices.differentProcent != 0].differentProcent.max() , '%', '\\n',\n",
    "'in', sales.loc[sales.item_price < 1].shop_id.nunique(), 'shops', '\\n',\n",
    "sales.loc[sales.item_price < 0].shape[0], 'item were sold with negative price = -1'\n",
    ")"
   ]
  },
  {
   "cell_type": "code",
   "execution_count": null,
   "metadata": {},
   "outputs": [],
   "source": [
    "prices.loc[prices.differentProcent != 0].differentProcent.plot.box()\n",
    "plt.title('How differ price for item_id in shops, % ?')\n",
    "plt.show()"
   ]
  },
  {
   "cell_type": "markdown",
   "metadata": {},
   "source": [
    "Cocnlusion:  \n",
    "- There is discount policy,  \n",
    "- Some items may be sold with 100% discount, that may be an action sort of 'Second item for free'  \n",
    "- Discount policy:  \n",
    "    - 35%  - .25 percentile, \n",
    "    - ~43%  - mediana,\n",
    "    -  57%  - .75 percentile,\n",
    "    - 74% - .9 percentile,\n",
    "    - outliers - with ~95-100% discount."
   ],
   "execution_count": null,
   "outputs": []
  },
  {
   "cell_type": "markdown",
   "metadata": {},
   "source": [
    "### How would you describe a returns policy?"
   ],
   "execution_count": null,
   "outputs": []
  },
  {
   "cell_type": "code",
   "execution_count": null,
   "metadata": {},
   "outputs": [],
   "source": [
    "# How many item_id has been returned at once?\n",
    "\n",
    "sales.loc[sales.item_cnt_day < 0].item_cnt_day.value_counts()"
   ]
  },
  {
   "cell_type": "code",
   "execution_count": null,
   "metadata": {},
   "outputs": [],
   "source": [
    "# How many returns per shop? \n",
    "\n",
    "salesCropped.loc[salesCropped.item_cnt_day < 0].shop_id.value_counts().hist()\n",
    "plt.xlabel('Quantity of returned items, count')\n",
    "plt.ylabel('Number of shops, count')\n",
    "plt.title('Overview: How many returns per shop?')\n",
    "plt.show()"
   ]
  },
  {
   "cell_type": "code",
   "execution_count": null,
   "metadata": {},
   "outputs": [],
   "source": [
    "# Conclusion\n",
    "\n",
    "print(\n",
    "'Returned items:', salesCropped.loc[salesCropped.item_cnt_day < 0].shape[0], '\\n',\n",
    "'Over', salesCropped.loc[salesCropped.item_cnt_day < 0].item_id.nunique(), 'unique item_id', '\\n',\n",
    "'Over' , salesCropped.loc[salesCropped.item_cnt_day < 0].shop_id.nunique(), 'shops', '\\n',\n",
    "'Returned quantity, at once:', salesCropped.loc[salesCropped.item_cnt_day < 0].item_cnt_day.unique(),'\\n',\n",
    "'Most returns (mediana) have', abs(salesCropped.loc[salesCropped.item_cnt_day < 0].item_cnt_day.median()), 'items'\n",
    ")"
   ]
  },
  {
   "cell_type": "markdown",
   "metadata": {},
   "source": [
    "### How much wholesale deals?"
   ],
   "execution_count": null,
   "outputs": []
  },
  {
   "cell_type": "code",
   "execution_count": null,
   "metadata": {},
   "outputs": [],
   "source": [
    "sales.item_cnt_day.describe()"
   ]
  },
  {
   "cell_type": "code",
   "execution_count": null,
   "metadata": {},
   "outputs": [],
   "source": [
    "sales.item_cnt_day.plot.box()\n",
    "plt.show()"
   ]
  },
  {
   "cell_type": "code",
   "execution_count": null,
   "metadata": {},
   "outputs": [],
   "source": [
    "print(\n",
    "#'80 procent of all deals == 1 pcs, ', '\\n',\n",
    "sales.loc[sales.item_cnt_day > 100].shape[0], 'deals have quaninty over 100 pcs, over', \n",
    "sales.loc[sales.item_cnt_day > 100].shop_id.nunique(), 'shops_id'\n",
    ")"
   ]
  },
  {
   "cell_type": "markdown",
   "metadata": {},
   "source": [
    "### Overview for each item_id - N shops sold, N sales, N unique prices.."
   ],
   "execution_count": null,
   "outputs": []
  },
  {
   "cell_type": "code",
   "execution_count": null,
   "metadata": {},
   "outputs": [],
   "source": [
    "# Due to computantionally costs to perform the operation, I'm going to take a random 1000 item's to discover\n",
    "#listItems = list(range(0,22170))\n",
    "\n",
    "import random\n",
    "randomItem_id = random.sample(list(range(0, 22170)), 50)  # takes about 30 sec\n",
    "\n",
    "concatenatedData = []\n",
    "\n",
    "for each in randomItem_id: \n",
    "    concatenatedData.append(\n",
    "        [\n",
    "        each, # item_id\n",
    "        sales.loc[(sales.item_id == each)].shape[0], # salesN = number of sales \n",
    "        sales.loc[(sales.item_id == each)].shop_id.nunique(), # shopsN = number of shops\n",
    "        sales.loc[(sales.item_id == each)].item_price.nunique() # pricesN =   number of prices\n",
    "        ]\n",
    "        )\n",
    "\n",
    "salesPerItem = pd.DataFrame(concatenatedData, columns =['item_id', 'salesN', 'shopsN', 'pricesN']) \n",
    "salesPerItem = salesPerItem.loc[salesPerItem.salesN != 0]\n",
    "\n",
    "salesPerItem.head()"
   ]
  },
  {
   "cell_type": "code",
   "execution_count": null,
   "metadata": {},
   "outputs": [],
   "source": [
    "# Creating a column 'flag' - if item has been sold more than in 1 shop - 1, else == 0\n",
    "\n",
    "salesPerItem.loc[salesPerItem['shopsN'] == 1, 'ShopsDifferent'] = 0\n",
    "salesPerItem.loc[salesPerItem['shopsN'] > 1, 'ShopsDifferent'] = 1\n",
    "\n",
    "# Same shop different prices:\n",
    "salesPerItem.loc[\n",
    "    ((salesPerItem['ShopsDifferent'] == 0) & (salesPerItem['pricesN'] != 1) ) & (salesPerItem['salesN'] != 0)\n",
    "    , 'shopSamePriceDifferent'] = 1\n",
    "\n",
    "salesPerItem.head()"
   ]
  },
  {
   "cell_type": "markdown",
   "metadata": {},
   "source": [
    "### Find seasonal patterns or trends"
   ],
   "execution_count": null,
   "outputs": []
  },
  {
   "cell_type": "code",
   "execution_count": null,
   "metadata": {},
   "outputs": [],
   "source": [
    "trainMonthly = train[['date', 'item_price', 'item_cnt_day']]\n",
    "\n",
    "# calculate revenue\n",
    "trainMonthly['revenue'] = trainMonthly.item_price* trainMonthly.item_cnt_day\n",
    "\n",
    "# set date as index\n",
    "trainMonthly.date = pd.to_datetime(trainMonthly.date)\n",
    "trainMonthly.set_index('date', inplace=True)\n",
    "\n",
    "# resample to months\n",
    "trainMonthly = trainMonthly['revenue'].resample('MS').mean()\n",
    "trainMonthly.head()"
   ]
  },
  {
   "cell_type": "code",
   "execution_count": null,
   "metadata": {},
   "outputs": [],
   "source": [
    "# check for nulls\n",
    "trainMonthly.isnull().sum()"
   ]
  },
  {
   "cell_type": "code",
   "execution_count": null,
   "metadata": {},
   "outputs": [],
   "source": [
    "# visualization\n",
    "trainMonthly.plot(figsize=(20,10))\n",
    "plt.ylabel('Revenue')\n",
    "plt.title('Monthly revenue')\n",
    "\n",
    "plt.show()"
   ]
  },
  {
   "cell_type": "code",
   "execution_count": null,
   "metadata": {},
   "outputs": [],
   "source": [
    "# Extracting trend, season and noice - 'decomposing'\n",
    "\n",
    "rcParams['figure.figsize'] = 11, 9\n",
    "decomposition = sm.tsa.seasonal_decompose(trainMonthly, model='additive')\n",
    "fig = decomposition.plot()\n",
    "plt.show()"
   ]
  },
  {
   "cell_type": "code",
   "execution_count": 13,
   "metadata": {},
   "outputs": [
    {
     "output_type": "execute_result",
     "data": {
      "image/jpeg": "[encoded data removed]",
      "text/plain": "<IPython.core.display.Image object>"
     },
     "metadata": {},
     "execution_count": 13
    }
   ],
   "source": [
    "from IPython.display import Image\n",
    "Image(filename= 'Reatill sale trend decomposing.jpg')"
   ]
  },
  {
   "cell_type": "markdown",
   "metadata": {},
   "source": [
    "**Conclustion**  \n",
    "- Trend is going up (here, need to run a statistical test, to confirm the visual observation)  \n",
    "- Strong trend - september-january sales are up,    \n",
    "- There are some noice in data, need to be cleaned.  "
   ],
   "execution_count": null,
   "outputs": []
  },
  {
   "cell_type": "code",
   "execution_count": null,
   "metadata": {},
   "outputs": [],
   "source": [
    "End of code."
   ]
  }
 ]
}
